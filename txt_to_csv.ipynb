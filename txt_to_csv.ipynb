{
 "cells": [
  {
   "cell_type": "markdown",
   "metadata": {},
   "source": [
    "## 1. Convert .txt data to .csv"
   ]
  },
  {
   "cell_type": "code",
   "execution_count": 1,
   "metadata": {},
   "outputs": [],
   "source": [
    "import pandas as pd\n",
    "import numpy as np\n",
    "from tqdm.notebook import tqdm"
   ]
  },
  {
   "cell_type": "code",
   "execution_count": 5,
   "metadata": {},
   "outputs": [],
   "source": [
    "columns = ['obs_time', 'id',\n",
    "         'obs_umbral_area', 'obs_whole_area', 'corr_umbral_area', 'corr_whole_area',\n",
    "         'center_dist', 'pos_angle', 'carrington_lon', 'lat', 'center_meridian_dist']"
   ]
  },
  {
   "cell_type": "code",
   "execution_count": 8,
   "metadata": {
    "scrolled": true
   },
   "outputs": [
    {
     "data": {
      "application/vnd.jupyter.widget-view+json": {
       "model_id": "8977f484fe1243c0bd28513a946873cf",
       "version_major": 2,
       "version_minor": 0
      },
      "text/plain": [
       "HBox(children=(IntProgress(value=0, max=80106), HTML(value='')))"
      ]
     },
     "metadata": {},
     "output_type": "display_data"
    },
    {
     "name": "stdout",
     "output_type": "stream",
     "text": [
      "\n"
     ]
    }
   ],
   "source": [
    "table = pd.DataFrame(columns=columns)\n",
    "num_lines = np.sum([1 for line in open('datafiles/rgousfull.txt', 'r')])\n",
    "txt_data = open('datafiles/rgousfull.txt', 'r')\n",
    "for line in tqdm(txt_data, total=num_lines):\n",
    "    if int(line[12:20]) == 0:\n",
    "        continue\n",
    "    daytime = float(line[8:12])\n",
    "    seconds = int(daytime * 3600 * 24)\n",
    "    hour = seconds // 3600\n",
    "    seconds -= hour * 3600\n",
    "    minute = seconds // 60\n",
    "    seconds -= minute * 60\n",
    "    obs_time = pd.Timestamp(year=int(line[0:4]),\n",
    "                            month=int(line[4:6]),\n",
    "                            day=int(line[6:8]),\n",
    "                            hour=hour,\n",
    "                            minute=minute,\n",
    "                            second=seconds)\n",
    "    features = [obs_time,\n",
    "                int(line[12:20]),\n",
    "                float(line[25:29]),\n",
    "                float(line[30:34]),\n",
    "                float(line[35:39]),\n",
    "                float(line[40:44]),\n",
    "                float(line[45:50]),\n",
    "                float(line[51:56]),\n",
    "                float(line[57:62]),\n",
    "                float(line[63:68]),\n",
    "                float(line[69:74])]\n",
    "    series = pd.Series(features, index=columns)\n",
    "    table = table.append(series, ignore_index=True)"
   ]
  },
  {
   "cell_type": "code",
   "execution_count": 10,
   "metadata": {},
   "outputs": [],
   "source": [
    "table.to_csv('datafiles/rgousfull.csv', index=False)"
   ]
  },
  {
   "cell_type": "markdown",
   "metadata": {},
   "source": [
    "## 2. Add missing observations as NaNs"
   ]
  },
  {
   "cell_type": "code",
   "execution_count": 11,
   "metadata": {},
   "outputs": [],
   "source": [
    "data = pd.read_csv('datafiles/rgousfull.csv')\n",
    "data['obs_time'] = pd.to_datetime(data['obs_time'])"
   ]
  },
  {
   "cell_type": "code",
   "execution_count": 12,
   "metadata": {},
   "outputs": [],
   "source": [
    "grouped = data.groupby('id')"
   ]
  },
  {
   "cell_type": "code",
   "execution_count": 13,
   "metadata": {},
   "outputs": [],
   "source": [
    "lifetimes = grouped.obs_time.max().dt.date - grouped.obs_time.min().dt.date\n",
    "mask = lifetimes.dt.days + 1 != grouped.size()\n",
    "hidden_spots = mask[mask].index.to_numpy()"
   ]
  },
  {
   "cell_type": "code",
   "execution_count": 21,
   "metadata": {},
   "outputs": [
    {
     "data": {
      "application/vnd.jupyter.widget-view+json": {
       "model_id": "434204f7c97e49fe9a3f4aa2f3038c0c",
       "version_major": 2,
       "version_minor": 0
      },
      "text/plain": [
       "HBox(children=(IntProgress(value=0, max=1960), HTML(value='')))"
      ]
     },
     "metadata": {},
     "output_type": "display_data"
    },
    {
     "name": "stdout",
     "output_type": "stream",
     "text": [
      "\n"
     ]
    }
   ],
   "source": [
    "for spot_id in tqdm(hidden_spots):\n",
    "    dates = grouped.get_group(spot_id).obs_time.dt.date\n",
    "    dates_range = pd.date_range(dates.min(), dates.max())\n",
    "    missed_dates = dates_range[~np.isin(dates_range, dates.astype('datetime64[ns]'))]\n",
    "    new_states = pd.DataFrame(columns=data.columns)\n",
    "    new_states['obs_time'] = missed_dates\n",
    "    new_states['id'] = spot_id\n",
    "    data = data.append(new_states, ignore_index=True)"
   ]
  },
  {
   "cell_type": "code",
   "execution_count": 22,
   "metadata": {},
   "outputs": [],
   "source": [
    "data = data.sort_values(['obs_time', 'id'])"
   ]
  },
  {
   "cell_type": "code",
   "execution_count": 23,
   "metadata": {},
   "outputs": [],
   "source": [
    "data.to_csv('datafiles/rgousfull_nan.csv', index=False)"
   ]
  },
  {
   "cell_type": "code",
   "execution_count": null,
   "metadata": {},
   "outputs": [],
   "source": []
  }
 ],
 "metadata": {
  "kernelspec": {
   "display_name": "Python 3",
   "language": "python",
   "name": "python3"
  },
  "language_info": {
   "codemirror_mode": {
    "name": "ipython",
    "version": 3
   },
   "file_extension": ".py",
   "mimetype": "text/x-python",
   "name": "python",
   "nbconvert_exporter": "python",
   "pygments_lexer": "ipython3",
   "version": "3.6.2"
  }
 },
 "nbformat": 4,
 "nbformat_minor": 1
}
